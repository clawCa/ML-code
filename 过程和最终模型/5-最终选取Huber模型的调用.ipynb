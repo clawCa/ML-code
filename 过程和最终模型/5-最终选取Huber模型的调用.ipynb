{
 "cells": [
  {
   "cell_type": "code",
   "execution_count": 1,
   "id": "e16c2d3a",
   "metadata": {},
   "outputs": [],
   "source": [
    "import pandas as pd\n",
    "import numpy as np\n",
    "from pandas import Series, DataFrame\n",
    "import sklearn\n",
    "from sklearn import linear_model\n",
    "from sklearn.metrics import r2_score\n",
    "from sklearn.preprocessing import StandardScaler\n",
    "from sklearn.preprocessing import MinMaxScaler\n",
    "from sklearn.decomposition import PCA\n",
    "from sklearn.preprocessing import PolynomialFeatures\n",
    "from sklearn.model_selection import train_test_split\n",
    "from sklearn.model_selection import KFold\n",
    "from sklearn.model_selection import cross_val_predict\n",
    "import joblib\n",
    "import matplotlib.pyplot as plt"
   ]
  },
  {
   "cell_type": "code",
   "execution_count": 2,
   "id": "f73bea8a",
   "metadata": {},
   "outputs": [
    {
     "data": {
      "text/plain": [
       "<bound method NDFrame.head of          编号   直链淀粉含量g  直链淀粉比例     重量        A1        A2        A3        A4  \\\n",
       "0    234N-1  3.113456  23.785  13.09  0.408992  0.421020  0.417930  0.410035   \n",
       "1    489N-1  2.626910  36.740   7.15  0.385900  0.398986  0.398872  0.391411   \n",
       "2    483N-1  3.149256  34.760   9.06  0.426620  0.440990  0.438611  0.431118   \n",
       "3    490N-1  4.424459  35.595  12.43  0.399484  0.404151  0.398467  0.397170   \n",
       "4    232N-1  4.214154  37.660  11.19  0.379676  0.392528  0.389541  0.381101   \n",
       "..      ...       ...     ...    ...       ...       ...       ...       ...   \n",
       "102  020N-1  1.286309  15.295   8.41  0.519761  0.524981  0.533128  0.523232   \n",
       "103  492N-1  2.224890  37.710   5.90  0.393300  0.405160  0.405411  0.397843   \n",
       "104  017N-1  5.517554  33.460  16.49  0.461537  0.452760  0.460034  0.447231   \n",
       "105  196N-1  4.266436  23.915  17.84  0.436723  0.429687  0.426973  0.422054   \n",
       "106  101N-1  5.780725  37.295  15.50  0.357428  0.363206  0.367644  0.362402   \n",
       "\n",
       "           A5        A6  ...      A241      A242      A243      A244  \\\n",
       "0    0.405677  0.396423  ...  0.558667  0.557403  0.555996  0.554473   \n",
       "1    0.392812  0.389852  ...  0.587396  0.586168  0.584743  0.583219   \n",
       "2    0.429548  0.424692  ...  0.603371  0.602031  0.600579  0.598955   \n",
       "3    0.396311  0.396724  ...  0.562979  0.562270  0.560754  0.558803   \n",
       "4    0.379898  0.374768  ...  0.529644  0.528417  0.527213  0.525735   \n",
       "..        ...       ...  ...       ...       ...       ...       ...   \n",
       "102  0.521277  0.511910  ...  0.803485  0.801388  0.799787  0.797827   \n",
       "103  0.397681  0.392935  ...  0.560531  0.559223  0.557878  0.556406   \n",
       "104  0.445464  0.434629  ...  0.585515  0.584142  0.582832  0.581580   \n",
       "105  0.419102  0.415259  ...  0.587501  0.585713  0.584536  0.583288   \n",
       "106  0.359013  0.350530  ...  0.515123  0.513439  0.512682  0.511691   \n",
       "\n",
       "         A245      A246      A247      A248      A249      A250  \n",
       "0    0.554175  0.552808  0.553130  0.551642  0.552694  0.552902  \n",
       "1    0.582779  0.581300  0.581625  0.579918  0.580698  0.581091  \n",
       "2    0.598557  0.597046  0.597481  0.595932  0.597032  0.597303  \n",
       "3    0.558192  0.557647  0.558157  0.557169  0.557391  0.557800  \n",
       "4    0.525342  0.524116  0.524294  0.522795  0.523687  0.524056  \n",
       "..        ...       ...       ...       ...       ...       ...  \n",
       "102  0.797096  0.795752  0.795856  0.795508  0.794748  0.794079  \n",
       "103  0.556080  0.554738  0.554926  0.553120  0.553964  0.554122  \n",
       "104  0.581295  0.580623  0.580951  0.580851  0.580635  0.582190  \n",
       "105  0.582663  0.581773  0.581396  0.580435  0.580838  0.582131  \n",
       "106  0.510878  0.510317  0.509905  0.509494  0.510345  0.510299  \n",
       "\n",
       "[107 rows x 254 columns]>"
      ]
     },
     "execution_count": 2,
     "metadata": {},
     "output_type": "execute_result"
    }
   ],
   "source": [
    "data = pd.read_csv('乱序所有数据.csv', encoding='utf-8_sig')\n",
    "df = DataFrame(data)\n",
    "df.head"
   ]
  },
  {
   "cell_type": "code",
   "execution_count": 3,
   "id": "27861835",
   "metadata": {},
   "outputs": [],
   "source": [
    "pca=joblib.load('pca_huber.m')\n",
    "scaler = joblib.load('scaler.m')\n",
    "huber = joblib.load('huber.m')"
   ]
  },
  {
   "cell_type": "code",
   "execution_count": 4,
   "id": "f238de50",
   "metadata": {},
   "outputs": [],
   "source": [
    "y = df.iloc[0:, 2:3]\n",
    "x= df.iloc[0:, 3:]\n",
    "\n",
    "x = scaler.transform(x)\n",
    "x = pca.transform(x)\n",
    "\n",
    "y_predict = huber.predict(x)"
   ]
  },
  {
   "cell_type": "code",
   "execution_count": 5,
   "id": "dc7445fe",
   "metadata": {},
   "outputs": [
    {
     "data": {
      "text/plain": [
       "0.7301964467909796"
      ]
     },
     "execution_count": 5,
     "metadata": {},
     "output_type": "execute_result"
    }
   ],
   "source": [
    "#全局\n",
    "r2_score(y, y_predict)"
   ]
  },
  {
   "cell_type": "code",
   "execution_count": 23,
   "id": "a63436f1",
   "metadata": {},
   "outputs": [
    {
     "data": {
      "text/plain": [
       "<function matplotlib.pyplot.show(close=None, block=None)>"
      ]
     },
     "execution_count": 23,
     "metadata": {},
     "output_type": "execute_result"
    },
    {
     "data": {
      "image/png": "[encoded data removed]",
      "text/plain": [
       "<Figure size 432x288 with 1 Axes>"
      ]
     },
     "metadata": {
      "needs_background": "light"
     },
     "output_type": "display_data"
    }
   ],
   "source": [
    "plt.scatter(y, y_predict,color ='black')\n",
    "plt.xlabel('True Values ')\n",
    "plt.ylabel('Predictions ')\n",
    "\n",
    "\n",
    "plt.plot([0,40],[0,40],linewidth = 1 , color ='black')\n",
    "plt.show"
   ]
  },
  {
   "cell_type": "code",
   "execution_count": null,
   "id": "5ad7ad99",
   "metadata": {},
   "outputs": [],
   "source": []
  }
 ],
 "metadata": {
  "kernelspec": {
   "display_name": "Python [conda env:dl]",
   "language": "python",
   "name": "conda-env-dl-py"
  },
  "language_info": {
   "codemirror_mode": {
    "name": "ipython",
    "version": 3
   },
   "file_extension": ".py",
   "mimetype": "text/x-python",
   "name": "python",
   "nbconvert_exporter": "python",
   "pygments_lexer": "ipython3",
   "version": "3.6.13"
  }
 },
 "nbformat": 4,
 "nbformat_minor": 5
}
