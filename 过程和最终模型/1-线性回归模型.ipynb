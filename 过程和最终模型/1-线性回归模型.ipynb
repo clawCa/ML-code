{
 "cells": [
  {
   "cell_type": "code",
   "execution_count": 1,
   "id": "404af2af",
   "metadata": {},
   "outputs": [],
   "source": [
    "import pandas as pd\n",
    "import numpy as np\n",
    "from pandas import Series, DataFrame\n",
    "import sklearn\n",
    "from sklearn import linear_model\n",
    "from sklearn.metrics import r2_score\n",
    "from sklearn.preprocessing import StandardScaler\n",
    "from sklearn.preprocessing import MinMaxScaler\n",
    "from sklearn.decomposition import PCA\n",
    "from sklearn.preprocessing import PolynomialFeatures\n",
    "from sklearn.model_selection import train_test_split\n",
    "from sklearn.model_selection import KFold\n",
    "from sklearn.model_selection import cross_val_predict\n",
    "import matplotlib.pyplot as plt"
   ]
  },
  {
   "cell_type": "code",
   "execution_count": 2,
   "id": "9269895c",
   "metadata": {},
   "outputs": [
    {
     "data": {
      "text/plain": [
       "<bound method NDFrame.head of          编号   直链淀粉含量g  直链淀粉比例     重量        A1        A2        A3        A4  \\\n",
       "0    234N-1  3.113456  23.785  13.09  0.408992  0.421020  0.417930  0.410035   \n",
       "1    489N-1  2.626910  36.740   7.15  0.385900  0.398986  0.398872  0.391411   \n",
       "2    483N-1  3.149256  34.760   9.06  0.426620  0.440990  0.438611  0.431118   \n",
       "3    490N-1  4.424459  35.595  12.43  0.399484  0.404151  0.398467  0.397170   \n",
       "4    232N-1  4.214154  37.660  11.19  0.379676  0.392528  0.389541  0.381101   \n",
       "..      ...       ...     ...    ...       ...       ...       ...       ...   \n",
       "102  020N-1  1.286309  15.295   8.41  0.519761  0.524981  0.533128  0.523232   \n",
       "103  492N-1  2.224890  37.710   5.90  0.393300  0.405160  0.405411  0.397843   \n",
       "104  017N-1  5.517554  33.460  16.49  0.461537  0.452760  0.460034  0.447231   \n",
       "105  196N-1  4.266436  23.915  17.84  0.436723  0.429687  0.426973  0.422054   \n",
       "106  101N-1  5.780725  37.295  15.50  0.357428  0.363206  0.367644  0.362402   \n",
       "\n",
       "           A5        A6  ...      A241      A242      A243      A244  \\\n",
       "0    0.405677  0.396423  ...  0.558667  0.557403  0.555996  0.554473   \n",
       "1    0.392812  0.389852  ...  0.587396  0.586168  0.584743  0.583219   \n",
       "2    0.429548  0.424692  ...  0.603371  0.602031  0.600579  0.598955   \n",
       "3    0.396311  0.396724  ...  0.562979  0.562270  0.560754  0.558803   \n",
       "4    0.379898  0.374768  ...  0.529644  0.528417  0.527213  0.525735   \n",
       "..        ...       ...  ...       ...       ...       ...       ...   \n",
       "102  0.521277  0.511910  ...  0.803485  0.801388  0.799787  0.797827   \n",
       "103  0.397681  0.392935  ...  0.560531  0.559223  0.557878  0.556406   \n",
       "104  0.445464  0.434629  ...  0.585515  0.584142  0.582832  0.581580   \n",
       "105  0.419102  0.415259  ...  0.587501  0.585713  0.584536  0.583288   \n",
       "106  0.359013  0.350530  ...  0.515123  0.513439  0.512682  0.511691   \n",
       "\n",
       "         A245      A246      A247      A248      A249      A250  \n",
       "0    0.554175  0.552808  0.553130  0.551642  0.552694  0.552902  \n",
       "1    0.582779  0.581300  0.581625  0.579918  0.580698  0.581091  \n",
       "2    0.598557  0.597046  0.597481  0.595932  0.597032  0.597303  \n",
       "3    0.558192  0.557647  0.558157  0.557169  0.557391  0.557800  \n",
       "4    0.525342  0.524116  0.524294  0.522795  0.523687  0.524056  \n",
       "..        ...       ...       ...       ...       ...       ...  \n",
       "102  0.797096  0.795752  0.795856  0.795508  0.794748  0.794079  \n",
       "103  0.556080  0.554738  0.554926  0.553120  0.553964  0.554122  \n",
       "104  0.581295  0.580623  0.580951  0.580851  0.580635  0.582190  \n",
       "105  0.582663  0.581773  0.581396  0.580435  0.580838  0.582131  \n",
       "106  0.510878  0.510317  0.509905  0.509494  0.510345  0.510299  \n",
       "\n",
       "[107 rows x 254 columns]>"
      ]
     },
     "execution_count": 2,
     "metadata": {},
     "output_type": "execute_result"
    }
   ],
   "source": [
    "data = pd.read_csv('乱序所有数据.csv', encoding='utf-8_sig')\n",
    "df = DataFrame(data)\n",
    "df.head"
   ]
  },
  {
   "cell_type": "code",
   "execution_count": 3,
   "id": "a1a7e152",
   "metadata": {},
   "outputs": [],
   "source": [
    "y = df.iloc[0:80, 2:3]\n",
    "x= df.iloc[0:80, 3:]\n",
    "\n",
    "y_validation = df.iloc[80:, 2:3]\n",
    "x_validation = df.iloc[80:, 3:]\n",
    "\n",
    "Y_total = df.iloc[:, 2:3]\n",
    "X_total = df.iloc[:, 3:]"
   ]
  },
  {
   "cell_type": "code",
   "execution_count": 4,
   "id": "b5486fa2",
   "metadata": {},
   "outputs": [],
   "source": [
    "#归一化\n",
    "scaler = MinMaxScaler().fit(x)\n",
    "x = scaler.transform(x)\n",
    "\n",
    "x_validation = scaler.transform(x_validation)\n",
    "X_total = scaler.transform(X_total)"
   ]
  },
  {
   "cell_type": "code",
   "execution_count": 5,
   "id": "b953c7d8",
   "metadata": {},
   "outputs": [
    {
     "name": "stdout",
     "output_type": "stream",
     "text": [
      "[9.80016183e-01 9.69686964e-03 7.69707149e-03 1.94447771e-03\n",
      " 2.44114484e-04 1.92358860e-04 5.89228359e-05 4.29805029e-05\n",
      " 3.20981251e-05]\n"
     ]
    },
    {
     "data": {
      "text/plain": [
       "(80, 9)"
      ]
     },
     "execution_count": 5,
     "metadata": {},
     "output_type": "execute_result"
    }
   ],
   "source": [
    "#降维\n",
    "pca = PCA(n_components = 0.9999)\n",
    "pca.fit(x)\n",
    "x = pca.transform(x)\n",
    "\n",
    "x_validation = pca.transform(x_validation)\n",
    "print(pca.explained_variance_ratio_)\n",
    "\n",
    "x.shape"
   ]
  },
  {
   "cell_type": "code",
   "execution_count": 6,
   "id": "3f5f3993",
   "metadata": {},
   "outputs": [
    {
     "data": {
      "text/plain": [
       "(60, 9)"
      ]
     },
     "execution_count": 6,
     "metadata": {},
     "output_type": "execute_result"
    }
   ],
   "source": [
    "x_train,x_test,y_train,y_test = train_test_split(x,y,test_size= 0.25)\n",
    "x_train.shape"
   ]
  },
  {
   "cell_type": "code",
   "execution_count": 7,
   "id": "72c69900",
   "metadata": {},
   "outputs": [],
   "source": [
    "linear = linear_model.LinearRegression()\n",
    "lasso = linear_model.Lasso(alpha=0.001, max_iter = 10000000)\n",
    "ridge = linear_model.Ridge(alpha=0.001)  #----r2 0.75\n",
    "huber = linear_model.HuberRegressor(max_iter=100000, epsilon=1.15)"
   ]
  },
  {
   "cell_type": "code",
   "execution_count": 8,
   "id": "69f114ad",
   "metadata": {},
   "outputs": [],
   "source": [
    "model = ridge\n",
    "model.fit(x_train, np.ravel(y_train))\n",
    "\n",
    "y_train_predict = model.predict(x_train)\n",
    "y_test_predict = model.predict(x_test)\n",
    "y_validation_predict = model.predict(x_validation)    "
   ]
  },
  {
   "cell_type": "code",
   "execution_count": 9,
   "id": "5338a91f",
   "metadata": {},
   "outputs": [
    {
     "name": "stdout",
     "output_type": "stream",
     "text": [
      "r2_train_max = 0.6012272113335739,r2_test_max = 0.18793924246578664, r2_validation_max = 0.7496512150608694\n"
     ]
    }
   ],
   "source": [
    "r2_train_max = 0\n",
    "r2_test_max = 0\n",
    "r2_validation_max = 0\n",
    "if r2_score(y_train, y_train_predict)>=r2_train_max and r2_score(y_test, y_test_predict)>=r2_test_max and r2_score(y_validation, y_validation_predict)>=r2_validation_max :\n",
    "    \n",
    "    r2_train_max = r2_score(y_train, y_train_predict)\n",
    "    r2_test_max = r2_score(y_test, y_test_predict)\n",
    "    r2_validation_max = r2_score(y_validation, y_validation_predict)    \n",
    "    print(\"r2_train_max = {0},r2_test_max = {1}, r2_validation_max = {2}\".format(r2_train_max,r2_test_max,r2_validation_max))"
   ]
  },
  {
   "cell_type": "code",
   "execution_count": 10,
   "id": "407cf1f9",
   "metadata": {},
   "outputs": [
    {
     "data": {
      "text/plain": [
       "0.6012272113335739"
      ]
     },
     "execution_count": 10,
     "metadata": {},
     "output_type": "execute_result"
    }
   ],
   "source": [
    "r2_score(y_train, y_train_predict)"
   ]
  },
  {
   "cell_type": "code",
   "execution_count": 11,
   "id": "e8f8dc2c",
   "metadata": {},
   "outputs": [
    {
     "data": {
      "text/plain": [
       "0.18793924246578664"
      ]
     },
     "execution_count": 11,
     "metadata": {},
     "output_type": "execute_result"
    }
   ],
   "source": [
    "r2_score(y_test, y_test_predict)"
   ]
  },
  {
   "cell_type": "code",
   "execution_count": 12,
   "id": "8e9b8037",
   "metadata": {},
   "outputs": [
    {
     "data": {
      "text/plain": [
       "0.7496512150608694"
      ]
     },
     "execution_count": 12,
     "metadata": {},
     "output_type": "execute_result"
    }
   ],
   "source": [
    "\n",
    "r2_score(y_validation, y_validation_predict)"
   ]
  },
  {
   "cell_type": "code",
   "execution_count": 20,
   "id": "15d6005a",
   "metadata": {},
   "outputs": [
    {
     "name": "stdout",
     "output_type": "stream",
     "text": [
      "0.7671659634043727 0.5321588206052024\n",
      "0.7183510355735043 0.4212259557390532\n",
      "0.7898516544675951 0.5437892275061142\n",
      "0.798982493850058 0.4780196639464743\n",
      "0.7539198442989539 0.5996470454906979\n",
      "0.7686505060384834 0.6299142607705603\n",
      "0.7630390494000849 0.6423459533236775\n",
      "0.822303879938139 0.5087377602125394\n",
      "0.7664357320656112 0.7274602568931949\n",
      "0.7873535796777013 0.42314522964776424\n",
      "r2_train_max = 0.7898516544675951,r2_test_max = 0.5437892275061142, r2_validation_max = 0\n"
     ]
    }
   ],
   "source": [
    "r2_train_max = 0\n",
    "r2_test_max = 0\n",
    "r2_validation_max = 0\n",
    "\n",
    "for i in range(10):\n",
    "    \n",
    "#     df = sklearn.utils.shuffle(df)\n",
    "    \n",
    "    y = df.iloc[0:, 2:3]\n",
    "    x= df.iloc[0:, 3:]\n",
    "    #划分数据集\n",
    "    x_train,x_test,y_train,y_test = train_test_split(x,y,test_size= 0.3)       \n",
    "    \n",
    "    #归一化\n",
    "    scaler = MinMaxScaler().fit(x_train)\n",
    "    x_train = scaler.transform(x_train)\n",
    "    x_test = scaler.transform(x_test)\n",
    "\n",
    "#     #降维\n",
    "    pca = PCA(n_components = 0.9999999)\n",
    "    pca.fit(x_train)\n",
    "    x_train = pca.transform(x_train)\n",
    "    x_test = pca.transform(x_test)\n",
    "\n",
    "    \n",
    "    #模型选择\n",
    "    model = huber\n",
    "    model.fit(x_train, np.ravel(y_train))\n",
    "\n",
    "    y_train_predict = model.predict(x_train)\n",
    "    y_test_predict = model.predict(x_test)\n",
    "#     y_validation_predict = model.predict(x_validation)   \n",
    "    \n",
    "    \n",
    "    \n",
    "\n",
    "    if r2_score(y_train, y_train_predict)>=r2_train_max and r2_score(y_test, y_test_predict)>=r2_test_max :\n",
    "        r2_train_max = r2_score(y_train, y_train_predict)\n",
    "        r2_test_max = r2_score(y_test, y_test_predict)\n",
    "#         r2_validation_max = r2_score(y_validation, y_validation_predict)\n",
    "        \n",
    "    print(r2_score(y_train, y_train_predict) ,r2_score(y_test, y_test_predict))\n",
    "    \n",
    "print(\"r2_train_max = {0},r2_test_max = {1}, r2_validation_max = {2}\".format(r2_train_max,r2_test_max,r2_validation_max))"
   ]
  },
  {
   "cell_type": "code",
   "execution_count": 14,
   "id": "97cb30d1",
   "metadata": {},
   "outputs": [],
   "source": [
    "# kf = KFold(n_splits=5)\n",
    "# for train_index, test_index in kf.split(x):\n",
    "#     print('train_index', train_index, 'test_index', test_index)\n",
    "#     train_x, train_y = x[train_index], y[train_index]\n",
    "#     test_x, test_y = x[test_index], y[test_index]"
   ]
  },
  {
   "cell_type": "code",
   "execution_count": 15,
   "id": "82929915",
   "metadata": {},
   "outputs": [],
   "source": [
    "# fig, ax = plt.subplots()\n",
    "# ax.scatter(y, predicted, c=\"blue\", edgecolors=\"red\")\n",
    "# ax.plot([y.min(), y.max()], [y.min(), y.max()], 'k', lw=2)\n",
    "# ax.set_xlabel('y')\n",
    "# ax.set_ylabel('prediction')\n",
    "# plt.show()"
   ]
  },
  {
   "cell_type": "code",
   "execution_count": null,
   "id": "84fda6ff",
   "metadata": {},
   "outputs": [],
   "source": []
  }
 ],
 "metadata": {
  "kernelspec": {
   "display_name": "Python [conda env:dl]",
   "language": "python",
   "name": "conda-env-dl-py"
  },
  "language_info": {
   "codemirror_mode": {
    "name": "ipython",
    "version": 3
   },
   "file_extension": ".py",
   "mimetype": "text/x-python",
   "name": "python",
   "nbconvert_exporter": "python",
   "pygments_lexer": "ipython3",
   "version": "3.6.13"
  }
 },
 "nbformat": 4,
 "nbformat_minor": 5
}
