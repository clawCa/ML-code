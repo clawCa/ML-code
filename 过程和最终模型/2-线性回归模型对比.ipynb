{
 "cells": [
  {
   "cell_type": "code",
   "execution_count": 1,
   "id": "f802d99d",
   "metadata": {},
   "outputs": [],
   "source": [
    "import pandas as pd\n",
    "import numpy as np\n",
    "from pandas import Series, DataFrame\n",
    "import sklearn\n",
    "from sklearn import linear_model\n",
    "from sklearn.metrics import r2_score\n",
    "from sklearn.preprocessing import StandardScaler\n",
    "from sklearn.preprocessing import MinMaxScaler\n",
    "from sklearn.decomposition import PCA\n",
    "from sklearn.preprocessing import PolynomialFeatures\n",
    "from sklearn.model_selection import train_test_split\n",
    "from sklearn.model_selection import KFold\n",
    "from sklearn.model_selection import cross_val_predict\n",
    "import matplotlib.pyplot as plt"
   ]
  },
  {
   "cell_type": "code",
   "execution_count": 2,
   "id": "d3269178",
   "metadata": {},
   "outputs": [
    {
     "data": {
      "text/plain": [
       "<bound method NDFrame.head of          编号   直链淀粉含量g  直链淀粉比例     重量        A1        A2        A3        A4  \\\n",
       "0    234N-1  3.113456  23.785  13.09  0.408992  0.421020  0.417930  0.410035   \n",
       "1    489N-1  2.626910  36.740   7.15  0.385900  0.398986  0.398872  0.391411   \n",
       "2    483N-1  3.149256  34.760   9.06  0.426620  0.440990  0.438611  0.431118   \n",
       "3    490N-1  4.424459  35.595  12.43  0.399484  0.404151  0.398467  0.397170   \n",
       "4    232N-1  4.214154  37.660  11.19  0.379676  0.392528  0.389541  0.381101   \n",
       "..      ...       ...     ...    ...       ...       ...       ...       ...   \n",
       "102  020N-1  1.286309  15.295   8.41  0.519761  0.524981  0.533128  0.523232   \n",
       "103  492N-1  2.224890  37.710   5.90  0.393300  0.405160  0.405411  0.397843   \n",
       "104  017N-1  5.517554  33.460  16.49  0.461537  0.452760  0.460034  0.447231   \n",
       "105  196N-1  4.266436  23.915  17.84  0.436723  0.429687  0.426973  0.422054   \n",
       "106  101N-1  5.780725  37.295  15.50  0.357428  0.363206  0.367644  0.362402   \n",
       "\n",
       "           A5        A6  ...      A241      A242      A243      A244  \\\n",
       "0    0.405677  0.396423  ...  0.558667  0.557403  0.555996  0.554473   \n",
       "1    0.392812  0.389852  ...  0.587396  0.586168  0.584743  0.583219   \n",
       "2    0.429548  0.424692  ...  0.603371  0.602031  0.600579  0.598955   \n",
       "3    0.396311  0.396724  ...  0.562979  0.562270  0.560754  0.558803   \n",
       "4    0.379898  0.374768  ...  0.529644  0.528417  0.527213  0.525735   \n",
       "..        ...       ...  ...       ...       ...       ...       ...   \n",
       "102  0.521277  0.511910  ...  0.803485  0.801388  0.799787  0.797827   \n",
       "103  0.397681  0.392935  ...  0.560531  0.559223  0.557878  0.556406   \n",
       "104  0.445464  0.434629  ...  0.585515  0.584142  0.582832  0.581580   \n",
       "105  0.419102  0.415259  ...  0.587501  0.585713  0.584536  0.583288   \n",
       "106  0.359013  0.350530  ...  0.515123  0.513439  0.512682  0.511691   \n",
       "\n",
       "         A245      A246      A247      A248      A249      A250  \n",
       "0    0.554175  0.552808  0.553130  0.551642  0.552694  0.552902  \n",
       "1    0.582779  0.581300  0.581625  0.579918  0.580698  0.581091  \n",
       "2    0.598557  0.597046  0.597481  0.595932  0.597032  0.597303  \n",
       "3    0.558192  0.557647  0.558157  0.557169  0.557391  0.557800  \n",
       "4    0.525342  0.524116  0.524294  0.522795  0.523687  0.524056  \n",
       "..        ...       ...       ...       ...       ...       ...  \n",
       "102  0.797096  0.795752  0.795856  0.795508  0.794748  0.794079  \n",
       "103  0.556080  0.554738  0.554926  0.553120  0.553964  0.554122  \n",
       "104  0.581295  0.580623  0.580951  0.580851  0.580635  0.582190  \n",
       "105  0.582663  0.581773  0.581396  0.580435  0.580838  0.582131  \n",
       "106  0.510878  0.510317  0.509905  0.509494  0.510345  0.510299  \n",
       "\n",
       "[107 rows x 254 columns]>"
      ]
     },
     "execution_count": 2,
     "metadata": {},
     "output_type": "execute_result"
    }
   ],
   "source": [
    "data = pd.read_csv('乱序所有数据.csv', encoding='utf-8_sig')\n",
    "df = DataFrame(data)\n",
    "df.head"
   ]
  },
  {
   "cell_type": "code",
   "execution_count": 3,
   "id": "8c10ae9d",
   "metadata": {},
   "outputs": [],
   "source": [
    "linear = linear_model.LinearRegression()\n",
    "lasso = linear_model.Lasso(alpha=0.0001, max_iter = 10000000)\n",
    "ridge = linear_model.Ridge(alpha=0.0001)  #----r2 0.75\n",
    "huber = linear_model.HuberRegressor(max_iter=100000, epsilon=1.35)"
   ]
  },
  {
   "cell_type": "code",
   "execution_count": null,
   "id": "07d3b3c5",
   "metadata": {
    "scrolled": true
   },
   "outputs": [
    {
     "name": "stdout",
     "output_type": "stream",
     "text": [
      "0.9184028055872875 0.6514144700557543\n",
      "0.941092974342667 0.4353757536083811\n",
      "0.9315364318774897 0.09593016095482887\n",
      "0.8813564023715419 0.7359840848001391\n",
      "0.8899779639787222 0.6869491371763656\n",
      "0.9097245371528674 0.35632157133581266\n",
      "0.9234496470460964 0.528106801957235\n",
      "0.9338932008250631 0.5806150115824378\n",
      "0.9134641745167359 0.556066485551659\n",
      "0.8705886295429386 0.7585649186567306\n",
      "0.9017512783419048 0.2989920648763512\n",
      "0.9216804104498261 0.5942128593110281\n",
      "0.8808920644564237 0.6545625310692049\n",
      "0.8960458617093416 0.49390107841716036\n",
      "0.8987877820718957 0.6580286764901264\n",
      "0.9032943565615298 0.49540041385843925\n",
      "0.8998170879728077 0.6788856459319986\n",
      "0.8978778690934378 0.513541803750638\n",
      "0.9303969227452177 0.5878822473521113\n",
      "0.9397421115962558 0.15308895430967295\n",
      "0.8715033294058363 0.6405666978293043\n",
      "0.8908828866785785 0.6663340317055437\n",
      "0.8796633375580707 0.7193333646012011\n",
      "0.891759044335346 0.6192170932867729\n",
      "0.8924265404682129 0.44433981147480317\n",
      "0.9191965992740251 0.49775221744580256\n",
      "0.9067524147489637 0.5382456566398076\n",
      "0.8987846847362511 0.6421557134950316\n",
      "0.9141738139587496 0.2864812161576583\n",
      "0.8978296259995178 0.48407001159148966\n",
      "0.9178319020950902 0.5732576753753471\n",
      "0.8935163352511127 0.5289204907860456\n",
      "0.8940232441236875 0.6823926922124934\n",
      "0.9037861285803674 0.5724850958581345\n",
      "0.9069241736817917 0.41199295489814414\n",
      "0.9228198788389306 0.2069228919608791\n",
      "0.9395546875030067 0.377323285202684\n",
      "0.9070319377486521 0.6392260048519085\n",
      "0.8794648647870481 0.6656365784114738"
     ]
    }
   ],
   "source": [
    "r2_train_max = 0\n",
    "r2_test_max = 0\n",
    "r2_validation_max = 0\n",
    "\n",
    "for i in range(100):\n",
    "    \n",
    "#     df = sklearn.utils.shuffle(df)\n",
    "    \n",
    "    y = df.iloc[0:, 2:3]\n",
    "    x= df.iloc[0:, 3:]\n",
    "    #划分数据集\n",
    "    x_train,x_test,y_train,y_test = train_test_split(x,y,test_size= 0.3)       \n",
    "    \n",
    "    #归一化\n",
    "    scaler = MinMaxScaler().fit(x_train)\n",
    "    x_train = scaler.transform(x_train)\n",
    "    x_test = scaler.transform(x_test)\n",
    "\n",
    "#     #降维\n",
    "    pca = PCA(n_components = 0.9999999)  #0.99x99999\n",
    "    pca.fit(x_train)\n",
    "    x_train = pca.transform(x_train)\n",
    "    x_test = pca.transform(x_test)\n",
    "\n",
    "    \n",
    "    #模型选择\n",
    "    model = lasso\n",
    "    model.fit(x_train, np.ravel(y_train))\n",
    "\n",
    "    y_train_predict = model.predict(x_train)\n",
    "    y_test_predict = model.predict(x_test)\n",
    "#     y_validation_predict = model.predict(x_validation)   \n",
    "    \n",
    "    \n",
    "    \n",
    "\n",
    "    if r2_score(y_test, y_test_predict)>=r2_test_max :\n",
    "        r2_train_max = r2_score(y_train, y_train_predict)\n",
    "        r2_test_max = r2_score(y_test, y_test_predict)\n",
    "#         r2_validation_max = r2_score(y_validation, y_validation_predict)\n",
    "        \n",
    "    print(r2_score(y_train, y_train_predict) ,r2_score(y_test, y_test_predict))\n",
    "    \n",
    "\n",
    "    \n",
    "print(\"r2_train_max = {0},r2_test_max = {1}, r2_validation_max = {2}\".format(r2_train_max,r2_test_max,r2_validation_max))\n",
    "print(x_train.shape)"
   ]
  },
  {
   "cell_type": "code",
   "execution_count": null,
   "id": "774f99cb",
   "metadata": {},
   "outputs": [],
   "source": [
    "# model.save(\"11\")"
   ]
  }
 ],
 "metadata": {
  "kernelspec": {
   "display_name": "Python [conda env:dl]",
   "language": "python",
   "name": "conda-env-dl-py"
  },
  "language_info": {
   "codemirror_mode": {
    "name": "ipython",
    "version": 3
   },
   "file_extension": ".py",
   "mimetype": "text/x-python",
   "name": "python",
   "nbconvert_exporter": "python",
   "pygments_lexer": "ipython3",
   "version": "3.6.13"
  }
 },
 "nbformat": 4,
 "nbformat_minor": 5
}
