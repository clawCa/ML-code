{
 "cells": [
  {
   "cell_type": "code",
   "execution_count": 1,
   "id": "f014ea2a",
   "metadata": {},
   "outputs": [],
   "source": [
    "import pandas as pd\n",
    "import numpy as np\n",
    "from pandas import Series, DataFrame\n",
    "import sklearn\n",
    "from sklearn import linear_model\n",
    "from sklearn.metrics import r2_score\n",
    "from sklearn.preprocessing import StandardScaler\n",
    "from sklearn.preprocessing import MinMaxScaler\n",
    "from sklearn.decomposition import PCA\n",
    "from sklearn.preprocessing import PolynomialFeatures"
   ]
  },
  {
   "cell_type": "code",
   "execution_count": 2,
   "id": "9cc3c15d",
   "metadata": {},
   "outputs": [
    {
     "data": {
      "text/plain": [
       "<bound method NDFrame.head of          编号   直链淀粉含量g  直链淀粉比例     重量        A1        A2        A3        A4  \\\n",
       "0    015N-1  1.331820  17.640   7.55  0.522216  0.519367  0.524388  0.517807   \n",
       "1    054N-1  4.640986  22.540  20.59  0.336829  0.335386  0.339086  0.335643   \n",
       "2    159N-1  1.670599  22.245   7.51  0.316952  0.320565  0.317299  0.315075   \n",
       "3    002N-1  3.017595  34.685   8.70  0.266629  0.273965  0.278708  0.270795   \n",
       "4    061N-1  5.296447  33.395  15.86  0.413951  0.419958  0.421925  0.419540   \n",
       "..      ...       ...     ...    ...       ...       ...       ...       ...   \n",
       "102  070N-1  3.486312  29.520  11.81  0.448896  0.455649  0.457371  0.454982   \n",
       "103  004N-1  3.149212  18.835  16.72  0.506013  0.506586  0.513458  0.500521   \n",
       "104  489N-1  2.626910  36.740   7.15  0.385900  0.398986  0.398872  0.391411   \n",
       "105  163N-1  2.516134  26.020   9.67  0.314845  0.320753  0.317794  0.314755   \n",
       "106  141N-1  2.389008  17.040  14.02  0.475419  0.469606  0.465514  0.460807   \n",
       "\n",
       "           A5        A6  ...      A241      A242      A243      A244  \\\n",
       "0    0.514585  0.506622  ...  0.783166  0.781200  0.779461  0.777426   \n",
       "1    0.334188  0.326743  ...  0.426229  0.424435  0.423411  0.422222   \n",
       "2    0.310949  0.305453  ...  0.421523  0.420242  0.419372  0.418929   \n",
       "3    0.266949  0.259894  ...  0.390648  0.389625  0.388678  0.388010   \n",
       "4    0.414778  0.405530  ...  0.552712  0.550911  0.550171  0.549179   \n",
       "..        ...       ...  ...       ...       ...       ...       ...   \n",
       "102  0.450982  0.442091  ...  0.696580  0.694681  0.693820  0.692542   \n",
       "103  0.497341  0.484503  ...  0.701294  0.699705  0.698329  0.696786   \n",
       "104  0.392812  0.389852  ...  0.587396  0.586168  0.584743  0.583219   \n",
       "105  0.309478  0.305707  ...  0.427186  0.425738  0.424792  0.424037   \n",
       "106  0.458926  0.456023  ...  0.691207  0.689309  0.688084  0.686635   \n",
       "\n",
       "         A245      A246      A247      A248      A249      A250  \n",
       "0    0.776683  0.775458  0.775499  0.774597  0.773758  0.774630  \n",
       "1    0.421241  0.420693  0.419979  0.419128  0.420126  0.421151  \n",
       "2    0.418408  0.417989  0.417697  0.417234  0.417400  0.417402  \n",
       "3    0.387510  0.386981  0.387090  0.386812  0.386420  0.386787  \n",
       "4    0.548377  0.547924  0.547423  0.547151  0.548229  0.548367  \n",
       "..        ...       ...       ...       ...       ...       ...  \n",
       "102  0.691734  0.691044  0.690081  0.689364  0.690161  0.689985  \n",
       "103  0.696429  0.695484  0.695815  0.696025  0.695696  0.695662  \n",
       "104  0.582779  0.581300  0.581625  0.579918  0.580698  0.581091  \n",
       "105  0.423507  0.422948  0.422702  0.422093  0.422048  0.422154  \n",
       "106  0.685919  0.684685  0.684284  0.683106  0.683455  0.684703  \n",
       "\n",
       "[107 rows x 254 columns]>"
      ]
     },
     "execution_count": 2,
     "metadata": {},
     "output_type": "execute_result"
    }
   ],
   "source": [
    "data = pd.read_csv('huber_noindex.csv')\n",
    "df = DataFrame(data)\n",
    "df.head"
   ]
  },
  {
   "cell_type": "code",
   "execution_count": 3,
   "id": "f09c2ad0",
   "metadata": {},
   "outputs": [],
   "source": [
    "#打乱\n",
    "# df = sklearn.utils.shuffle(df)\n",
    "# df"
   ]
  },
  {
   "cell_type": "code",
   "execution_count": 4,
   "id": "7ee46079",
   "metadata": {},
   "outputs": [],
   "source": [
    "y_train = df.iloc[0:60, 2:3]\n",
    "x_train = df.iloc[0:60, 3:]\n",
    "\n",
    "y_test = df.iloc[60:80, 2:3]\n",
    "x_test = df.iloc[60:80, 3:]\n",
    "\n",
    "y_validation = df.iloc[80:, 2:3]\n",
    "x_validation = df.iloc[80:, 3:]"
   ]
  },
  {
   "cell_type": "code",
   "execution_count": 5,
   "id": "8d6f8961",
   "metadata": {},
   "outputs": [],
   "source": [
    "#归一化\n",
    "scaler = MinMaxScaler().fit(x_train)\n",
    "x_train = scaler.transform(x_train)\n",
    "x_test = scaler.transform(x_test)\n",
    "x_validation = scaler.transform(x_validation)"
   ]
  },
  {
   "cell_type": "code",
   "execution_count": 6,
   "id": "3cc8ffaa",
   "metadata": {},
   "outputs": [],
   "source": [
    "#降维\n",
    "pca = PCA(n_components = 60)\n",
    "pca.fit(x_train)\n",
    "x_train = pca.transform(x_train)\n",
    "x_test = pca.transform(x_test)\n",
    "x_validation = pca.transform(x_validation)"
   ]
  },
  {
   "cell_type": "code",
   "execution_count": 7,
   "id": "5d324c33",
   "metadata": {},
   "outputs": [
    {
     "data": {
      "text/plain": [
       "(60, 60)"
      ]
     },
     "execution_count": 7,
     "metadata": {},
     "output_type": "execute_result"
    }
   ],
   "source": [
    "x = x_train\n",
    "y = y_train\n",
    "# reg = linear_model.LinearRegression() #--- 线性回归\n",
    "# reg = linear_model.Ridge(alpha=0.01)  #----r2 0.75\n",
    "# reg = linear_model.Lasso(alpha=0.03, max_iter = 100000)\n",
    "reg = linear_model.HuberRegressor(max_iter=100000, epsilon=1.2)\n",
    "reg.fit(x, np.ravel(y))\n",
    "x_train.shape"
   ]
  },
  {
   "cell_type": "code",
   "execution_count": 8,
   "id": "a4d1cedb",
   "metadata": {},
   "outputs": [
    {
     "data": {
      "text/plain": [
       "array([27.44753353, 15.94913783, 31.43529085, 29.59655409, 31.56254494,\n",
       "       29.56898053, 22.89181016, 37.09880337, 35.93211954, 38.19731416,\n",
       "       12.5272417 , 31.43096167, 29.7850121 , 28.21363328, 36.14388441,\n",
       "       31.21119404, 34.34093739, 32.24599546, 30.13023845, 34.62222451])"
      ]
     },
     "execution_count": 8,
     "metadata": {},
     "output_type": "execute_result"
    }
   ],
   "source": [
    "y_train_predict = reg.predict(x_train)\n",
    "y_test_predict = reg.predict(x_test)\n",
    "y_validation_predict = reg.predict(x_validation)\n",
    "y_test_predict"
   ]
  },
  {
   "cell_type": "code",
   "execution_count": 9,
   "id": "546a811b",
   "metadata": {},
   "outputs": [
    {
     "data": {
      "text/plain": [
       "0.767946889118533"
      ]
     },
     "execution_count": 9,
     "metadata": {},
     "output_type": "execute_result"
    }
   ],
   "source": [
    "r2_score(y_train, y_train_predict)"
   ]
  },
  {
   "cell_type": "code",
   "execution_count": 10,
   "id": "832f98a0",
   "metadata": {},
   "outputs": [
    {
     "data": {
      "text/plain": [
       "0.6670360820808086"
      ]
     },
     "execution_count": 10,
     "metadata": {},
     "output_type": "execute_result"
    }
   ],
   "source": [
    "r2_score(y_test, y_test_predict)"
   ]
  },
  {
   "cell_type": "code",
   "execution_count": 11,
   "id": "338bef38",
   "metadata": {},
   "outputs": [
    {
     "data": {
      "text/plain": [
       "0.6855250261454844"
      ]
     },
     "execution_count": 11,
     "metadata": {},
     "output_type": "execute_result"
    }
   ],
   "source": [
    "r2_score(y_validation, y_validation_predict)"
   ]
  },
  {
   "cell_type": "code",
   "execution_count": 12,
   "id": "c5c383ca",
   "metadata": {},
   "outputs": [],
   "source": [
    "#存储\n",
    "#df.to_csv('huber_noindex.csv',encoding='utf-8_sig',index=None)"
   ]
  },
  {
   "cell_type": "markdown",
   "id": "69155639",
   "metadata": {},
   "source": [
    "0.7686643594064257\n",
    "0.6696592962752266\n",
    "0.6873174881070749"
   ]
  },
  {
   "cell_type": "code",
   "execution_count": 13,
   "id": "65bf386a",
   "metadata": {},
   "outputs": [
    {
     "data": {
      "text/plain": [
       "0.731491812347059"
      ]
     },
     "execution_count": 13,
     "metadata": {},
     "output_type": "execute_result"
    }
   ],
   "source": [
    "Y_total = df.iloc[:, 2:3]\n",
    "X_total = df.iloc[:, 3:]\n",
    "\n",
    "X_total = scaler.transform(X_total)\n",
    "X_total = pca.transform(X_total)\n",
    "\n",
    "Y_total_predict = reg.predict(X_total)\n",
    "\n",
    "r2_score(Y_total,Y_total_predict)"
   ]
  },
  {
   "cell_type": "code",
   "execution_count": null,
   "id": "7fd9a118",
   "metadata": {},
   "outputs": [],
   "source": []
  }
 ],
 "metadata": {
  "kernelspec": {
   "display_name": "Python [conda env:dl]",
   "language": "python",
   "name": "conda-env-dl-py"
  },
  "language_info": {
   "codemirror_mode": {
    "name": "ipython",
    "version": 3
   },
   "file_extension": ".py",
   "mimetype": "text/x-python",
   "name": "python",
   "nbconvert_exporter": "python",
   "pygments_lexer": "ipython3",
   "version": "3.6.13"
  }
 },
 "nbformat": 4,
 "nbformat_minor": 5
}
