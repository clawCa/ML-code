{
 "cells": [
  {
   "cell_type": "code",
   "execution_count": 1,
   "id": "9b3a9385",
   "metadata": {},
   "outputs": [],
   "source": [
    "import pandas as pd\n",
    "import numpy as np\n",
    "from pandas import Series, DataFrame\n",
    "import sklearn\n",
    "from sklearn import linear_model\n",
    "from sklearn.metrics import r2_score\n",
    "from sklearn.preprocessing import StandardScaler\n",
    "from sklearn.preprocessing import MinMaxScaler\n",
    "from sklearn.decomposition import PCA"
   ]
  },
  {
   "cell_type": "code",
   "execution_count": 2,
   "id": "b1452f0c",
   "metadata": {},
   "outputs": [],
   "source": [
    "data = pd.read_excel('所有变量.xls')"
   ]
  },
  {
   "cell_type": "code",
   "execution_count": 3,
   "id": "36122a6f",
   "metadata": {},
   "outputs": [
    {
     "data": {
      "text/plain": [
       "<bound method NDFrame.head of          编号   直链淀粉含量g  直链淀粉比例     重量        A1        A2        A3        A4  \\\n",
       "0    002N-1  3.017595  34.685   8.70  0.266629  0.273965  0.278708  0.270795   \n",
       "1    003N-1  1.581878  15.585  10.15  0.524202  0.530159  0.537204  0.529693   \n",
       "2    004N-1  3.149212  18.835  16.72  0.506013  0.506586  0.513458  0.500521   \n",
       "3    007N-1  3.435157  32.255  10.65  0.251556  0.256260  0.263306  0.250227   \n",
       "4    012N-1  2.865536  29.360   9.76  0.303613  0.310205  0.315379  0.306440   \n",
       "..      ...       ...     ...    ...       ...       ...       ...       ...   \n",
       "102  459N-1  2.660575  34.330   7.75  0.405291  0.398173  0.393729  0.393331   \n",
       "103  466N-1  2.447317  23.330  10.49  0.387330  0.379789  0.375813  0.375563   \n",
       "104  475N-1  3.901878  38.030  10.26  0.453801  0.454467  0.449704  0.449607   \n",
       "105  490N-1  4.424459  35.595  12.43  0.399484  0.404151  0.398467  0.397170   \n",
       "106  473N-1  5.705629  34.145  16.71  0.462239  0.466984  0.459212  0.456619   \n",
       "\n",
       "           A5        A6  ...      A241      A242      A243      A244  \\\n",
       "0    0.266949  0.259894  ...  0.390648  0.389625  0.388678  0.388010   \n",
       "1    0.526982  0.515527  ...  0.778350  0.776317  0.774586  0.772438   \n",
       "2    0.497341  0.484503  ...  0.701294  0.699705  0.698329  0.696786   \n",
       "3    0.249999  0.241846  ...  0.341365  0.340534  0.339867  0.339246   \n",
       "4    0.302883  0.294126  ...  0.460755  0.459658  0.458711  0.457845   \n",
       "..        ...       ...  ...       ...       ...       ...       ...   \n",
       "102  0.392459  0.391963  ...  0.564004  0.563451  0.562021  0.560283   \n",
       "103  0.373438  0.372258  ...  0.498868  0.497966  0.496522  0.494791   \n",
       "104  0.446229  0.444473  ...  0.580039  0.579160  0.577885  0.576246   \n",
       "105  0.396311  0.396724  ...  0.562979  0.562270  0.560754  0.558803   \n",
       "106  0.455488  0.454120  ...  0.611417  0.610806  0.609123  0.607047   \n",
       "\n",
       "         A245      A246      A247      A248      A249      A250  \n",
       "0    0.387510  0.386981  0.387090  0.386812  0.386420  0.386787  \n",
       "1    0.771708  0.770286  0.770578  0.770012  0.769212  0.768834  \n",
       "2    0.696429  0.695484  0.695815  0.696025  0.695696  0.695662  \n",
       "3    0.339021  0.338804  0.338815  0.338808  0.338772  0.339172  \n",
       "4    0.457283  0.456780  0.456902  0.456614  0.456136  0.456128  \n",
       "..        ...       ...       ...       ...       ...       ...  \n",
       "102  0.559780  0.559276  0.559590  0.558363  0.558243  0.559717  \n",
       "103  0.494129  0.493629  0.493963  0.492701  0.492734  0.494143  \n",
       "104  0.575765  0.575414  0.575796  0.574827  0.575518  0.576098  \n",
       "105  0.558192  0.557647  0.558157  0.557169  0.557391  0.557800  \n",
       "106  0.606261  0.605953  0.606748  0.605901  0.606096  0.606714  \n",
       "\n",
       "[107 rows x 254 columns]>"
      ]
     },
     "execution_count": 3,
     "metadata": {},
     "output_type": "execute_result"
    }
   ],
   "source": [
    "data.head"
   ]
  },
  {
   "cell_type": "code",
   "execution_count": 4,
   "id": "248d445e",
   "metadata": {},
   "outputs": [],
   "source": [
    "df = data.iloc[:, 2:]"
   ]
  },
  {
   "cell_type": "code",
   "execution_count": 5,
   "id": "eeaf05df",
   "metadata": {},
   "outputs": [],
   "source": [
    "y_train = data.iloc[0:70, 2:3]\n",
    "x_train = data.iloc[0:70, 3:]\n",
    "\n",
    "y_test = data.iloc[70:90, 2:3]\n",
    "x_test = data.iloc[70:90, 3:]\n"
   ]
  },
  {
   "cell_type": "code",
   "execution_count": 6,
   "id": "e14e6bd9",
   "metadata": {},
   "outputs": [],
   "source": [
    "# #归一化\n",
    "# scaler = MinMaxScaler().fit(x_train)\n",
    "# x_train = scaler.transform(x_train)\n",
    "# x_test = scaler.transform(x_test)"
   ]
  },
  {
   "cell_type": "code",
   "execution_count": 7,
   "id": "b5dca3e0",
   "metadata": {
    "scrolled": true
   },
   "outputs": [
    {
     "data": {
      "text/plain": [
       "array([[ 4.21870849e+00, -2.88194894e+00, -1.05821812e-03, ...,\n",
       "         6.33520178e-05,  1.41727388e-03, -1.71468905e-03],\n",
       "       [ 3.94069165e+00,  3.05724231e+00, -1.38974716e-01, ...,\n",
       "        -1.54962256e-03,  2.38061222e-03,  3.35233935e-04],\n",
       "       [-2.77159225e+00,  3.01953115e+00, -1.62287836e-03, ...,\n",
       "        -5.04309290e-05,  5.11791126e-04, -8.40550818e-04],\n",
       "       ...,\n",
       "       [ 4.00097833e+00,  3.90385006e-01,  4.59598207e-01, ...,\n",
       "         1.08514661e-03,  1.68619969e-03,  1.71942915e-04],\n",
       "       [ 5.26867034e-01,  2.98909435e+00, -6.91515866e-02, ...,\n",
       "        -1.42428221e-03, -1.51948320e-05, -1.04300782e-03],\n",
       "       [-2.08034478e+00, -1.99115138e+00, -2.11983106e-03, ...,\n",
       "         1.20525056e-03, -9.52275670e-04, -1.45646382e-04]])"
      ]
     },
     "execution_count": 7,
     "metadata": {},
     "output_type": "execute_result"
    }
   ],
   "source": [
    "#PCA降维\n",
    "pca = PCA(n_components = 20)\n",
    "pca.fit(x_train)\n",
    "x_train_pca = pca.transform(x_train)\n",
    "x_test_pca = pca.transform(x_test)\n",
    "x_train_pca"
   ]
  },
  {
   "cell_type": "code",
   "execution_count": 8,
   "id": "a6a82810",
   "metadata": {},
   "outputs": [
    {
     "data": {
      "text/plain": [
       "LinearRegression()"
      ]
     },
     "execution_count": 8,
     "metadata": {},
     "output_type": "execute_result"
    }
   ],
   "source": [
    "reg = linear_model.LinearRegression()\n",
    "#reg = linear_model.Lasso(alpha=0.01,max_iter = 1000000)\n",
    "reg.fit(x_train_pca, y_train)"
   ]
  },
  {
   "cell_type": "code",
   "execution_count": 9,
   "id": "2705a962",
   "metadata": {},
   "outputs": [
    {
     "data": {
      "text/plain": [
       "array([[25.92988684],\n",
       "       [29.20163187],\n",
       "       [35.52910816],\n",
       "       [26.40034988],\n",
       "       [32.80086366],\n",
       "       [11.67687219],\n",
       "       [33.53774653],\n",
       "       [34.02622636],\n",
       "       [24.82138332],\n",
       "       [33.32396654],\n",
       "       [32.69092587],\n",
       "       [35.36294899],\n",
       "       [35.51176206],\n",
       "       [33.88605624],\n",
       "       [28.543396  ],\n",
       "       [35.25056476],\n",
       "       [34.97105282],\n",
       "       [34.03532954],\n",
       "       [35.39641941],\n",
       "       [32.16540502]])"
      ]
     },
     "execution_count": 9,
     "metadata": {},
     "output_type": "execute_result"
    }
   ],
   "source": [
    "y_test_predict = reg.predict(x_test_pca)\n",
    "y_test_predict"
   ]
  },
  {
   "cell_type": "code",
   "execution_count": 10,
   "id": "ac1b6b62",
   "metadata": {},
   "outputs": [
    {
     "data": {
      "text/plain": [
       "0.754732593902711"
      ]
     },
     "execution_count": 10,
     "metadata": {},
     "output_type": "execute_result"
    }
   ],
   "source": [
    "r2_score(y_test, y_test_predict)"
   ]
  },
  {
   "cell_type": "code",
   "execution_count": null,
   "id": "1008b62f",
   "metadata": {},
   "outputs": [],
   "source": []
  }
 ],
 "metadata": {
  "kernelspec": {
   "display_name": "Python [conda env:dl]",
   "language": "python",
   "name": "conda-env-dl-py"
  },
  "language_info": {
   "codemirror_mode": {
    "name": "ipython",
    "version": 3
   },
   "file_extension": ".py",
   "mimetype": "text/x-python",
   "name": "python",
   "nbconvert_exporter": "python",
   "pygments_lexer": "ipython3",
   "version": "3.6.13"
  }
 },
 "nbformat": 4,
 "nbformat_minor": 5
}
