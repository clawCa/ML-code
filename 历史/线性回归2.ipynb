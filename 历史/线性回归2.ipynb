{
 "cells": [
  {
   "cell_type": "code",
   "execution_count": 1,
   "id": "a0be9a0c",
   "metadata": {},
   "outputs": [],
   "source": [
    "import pandas as pd\n",
    "import numpy as np\n",
    "from pandas import Series, DataFrame\n",
    "import sklearn\n",
    "from sklearn import linear_model\n",
    "from sklearn.metrics import r2_score\n",
    "from sklearn.preprocessing import StandardScaler\n",
    "from sklearn.preprocessing import MinMaxScaler\n",
    "from sklearn.decomposition import PCA"
   ]
  },
  {
   "cell_type": "code",
   "execution_count": 2,
   "id": "6957c4e2",
   "metadata": {},
   "outputs": [],
   "source": [
    "data = pd.read_excel('所有变量.xls')"
   ]
  },
  {
   "cell_type": "code",
   "execution_count": 3,
   "id": "a209b6de",
   "metadata": {},
   "outputs": [],
   "source": [
    "df = data.iloc[:, 2:]"
   ]
  },
  {
   "cell_type": "code",
   "execution_count": 4,
   "id": "08755213",
   "metadata": {},
   "outputs": [],
   "source": [
    "y_train = data.iloc[0:60, 2:3]\n",
    "x_train = data.iloc[0:60, 3:]\n",
    "\n",
    "y_test = data.iloc[60:80, 2:3]\n",
    "x_test = data.iloc[60:80, 3:]\n",
    "\n",
    "y_validation = data.iloc[80:, 2:3]\n",
    "x_validation = data.iloc[80:, 3:]"
   ]
  },
  {
   "cell_type": "code",
   "execution_count": 5,
   "id": "a7e89d32",
   "metadata": {},
   "outputs": [],
   "source": [
    "#降维\n",
    "pca = PCA(n_components = 20)\n",
    "pca.fit(x_train)\n",
    "x_train = pca.transform(x_train)\n",
    "x_test = pca.transform(x_test)\n",
    "x_validation = pca.transform(x_validation)"
   ]
  },
  {
   "cell_type": "code",
   "execution_count": 6,
   "id": "906b1d37",
   "metadata": {},
   "outputs": [],
   "source": [
    "#归一化\n",
    "scaler = MinMaxScaler().fit(x_train)\n",
    "x_train = scaler.transform(x_train)\n",
    "x_test = scaler.transform(x_test)\n",
    "x_validation = scaler.transform(x_validation)"
   ]
  },
  {
   "cell_type": "code",
   "execution_count": 7,
   "id": "67eef3f9",
   "metadata": {},
   "outputs": [
    {
     "data": {
      "text/plain": [
       "(60, 20)"
      ]
     },
     "execution_count": 7,
     "metadata": {},
     "output_type": "execute_result"
    }
   ],
   "source": [
    "x = x_train\n",
    "y = y_train\n",
    "reg = linear_model.LinearRegression() #--- 线性回归\n",
    "# reg = linear_model.Ridge(alpha=0.1)  #----r2 0.75\n",
    "# reg = linear_model.Lasso(alpha=0.01, max_iter = 100000)\n",
    "reg.fit(x, y)\n",
    "x_train.shape"
   ]
  },
  {
   "cell_type": "code",
   "execution_count": 8,
   "id": "e87b4826",
   "metadata": {},
   "outputs": [
    {
     "data": {
      "text/plain": [
       "array([[30.04013943],\n",
       "       [32.21909193],\n",
       "       [31.90624064],\n",
       "       [30.33934218],\n",
       "       [29.90810309],\n",
       "       [18.50987412],\n",
       "       [20.56910299],\n",
       "       [26.4884791 ],\n",
       "       [35.33935421],\n",
       "       [32.66225865],\n",
       "       [25.8328987 ],\n",
       "       [32.87807674],\n",
       "       [35.08449308],\n",
       "       [27.70535027],\n",
       "       [32.2428152 ],\n",
       "       [13.70523264],\n",
       "       [33.34719238],\n",
       "       [33.54419348],\n",
       "       [25.30438189],\n",
       "       [33.20983121]])"
      ]
     },
     "execution_count": 8,
     "metadata": {},
     "output_type": "execute_result"
    }
   ],
   "source": [
    "y_test_predict = reg.predict(x_test)\n",
    "y_validation_predict = reg.predict(x_validation)\n",
    "y_test_predict"
   ]
  },
  {
   "cell_type": "code",
   "execution_count": 9,
   "id": "9b2dbf9e",
   "metadata": {},
   "outputs": [
    {
     "data": {
      "text/plain": [
       "0.5901793053837812"
      ]
     },
     "execution_count": 9,
     "metadata": {},
     "output_type": "execute_result"
    }
   ],
   "source": [
    "r2_score(y_test, y_test_predict)"
   ]
  },
  {
   "cell_type": "code",
   "execution_count": 10,
   "id": "0780e0b1",
   "metadata": {},
   "outputs": [
    {
     "data": {
      "text/plain": [
       "0.41927566087841006"
      ]
     },
     "execution_count": 10,
     "metadata": {},
     "output_type": "execute_result"
    }
   ],
   "source": [
    "r2_score(y_validation, y_validation_predict)"
   ]
  }
 ],
 "metadata": {
  "kernelspec": {
   "display_name": "Python [conda env:dl]",
   "language": "python",
   "name": "conda-env-dl-py"
  },
  "language_info": {
   "codemirror_mode": {
    "name": "ipython",
    "version": 3
   },
   "file_extension": ".py",
   "mimetype": "text/x-python",
   "name": "python",
   "nbconvert_exporter": "python",
   "pygments_lexer": "ipython3",
   "version": "3.6.13"
  }
 },
 "nbformat": 4,
 "nbformat_minor": 5
}
